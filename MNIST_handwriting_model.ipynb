{
 "cells": [
  {
   "cell_type": "code",
   "execution_count": 2,
   "id": "ef70aee9-adca-4238-9f1d-8162ea668e56",
   "metadata": {},
   "outputs": [
    {
     "name": "stdout",
     "output_type": "stream",
     "text": [
      "Workspace Name: fatiu-us-ml-workspace, Location: eastus\n"
     ]
    }
   ],
   "source": [
    "# Handle to workspace\n",
    "from azure.ai.ml import MLClient\n",
    "\n",
    "# Authentitation package\n",
    "from azure.identity import DefaultAzureCredential\n",
    "credential = DefaultAzureCredential()\n",
    "\n",
    "# Make sure to login on terminal with az login\n",
    "\n",
    "# Enter your credentials\n",
    "subscription_id = \"7a985d8d-5197-4c86-88dd-92eaf6eb8332\"\n",
    "resource_group = \"Deeptech_Ready_Program\"\n",
    "workspace = \"fatiu-us-ml-workspace\"\n",
    "\n",
    "ml_client = MLClient(\n",
    "    DefaultAzureCredential(), subscription_id, resource_group, workspace\n",
    ")\n",
    "\n",
    "# Test connection\n",
    "for workspace in ml_client.workspaces.list():\n",
    "    print(f\"Workspace Name: {workspace.name}, Location: {workspace.location}\")\n"
   ]
  },
  {
   "cell_type": "code",
   "execution_count": 4,
   "id": "4f7d332a-9080-49fc-b095-17fea4b4e821",
   "metadata": {},
   "outputs": [
    {
     "name": "stdout",
     "output_type": "stream",
     "text": [
      "You already have a cluster named (gpu_compute_target)\n"
     ]
    }
   ],
   "source": [
    "# Use compute instance\n",
    "\n",
    "# Import compute entity\n",
    "from azure.ai.ml.entities import AmlCompute\n",
    "\n",
    "# My existing gpu cluster\n",
    "gpu_compute_target = \"fatiu-compute-cluster\"\n",
    "\n",
    "# Does compute target exist?\n",
    "try:\n",
    "    gpu_cluster = ml_client.compute.get(gpu_compute_target)\n",
    "    print(\n",
    "        f\"You already have a cluster named (gpu_compute_target)\"\n",
    "    )\n",
    "\n",
    "except Exception:\n",
    "    print(\"Creating a new gpu compute target...\")"
   ]
  },
  {
   "cell_type": "code",
   "execution_count": 6,
   "id": "aeaa84da-3370-4546-ae31-5dc7c520a53a",
   "metadata": {},
   "outputs": [],
   "source": [
    "# Use curated enviroment\n",
    "curated_env_name = \"AzureML-tensorflow-2.12-cuda11@latest\""
   ]
  },
  {
   "cell_type": "code",
   "execution_count": 8,
   "id": "366554bd-758b-4c1c-a7f5-3bda6dddb4ef",
   "metadata": {},
   "outputs": [],
   "source": [
    "# MNIST data for training in azure storage account in the format .ubyte.gz\n",
    "web_path = \"wasbs://mldatacontainer@fatiustorageaccountus.blob.core.windows.net/MNIST\""
   ]
  },
  {
   "cell_type": "code",
   "execution_count": 10,
   "id": "12f7957c-56b8-4446-9538-33e0b64a598d",
   "metadata": {},
   "outputs": [],
   "source": [
    "# Build command job to train model\n",
    "from azure.ai.ml import command\n",
    "from azure.ai.ml.entities  import UserIdentityConfiguration\n",
    "from azure.ai.ml import Input\n",
    "\n",
    "web_path = \"wasbs://mldatacontainer@fatiustorageaccountus.blob.core.windows.net/MNIST\"\n",
    "\n",
    "job = command(\n",
    "    inputs=dict(\n",
    "        data_folder=Input(type=\"uri_folder\", path=web_path),\n",
    "        batch_size=64,\n",
    "        first_layer_neurons=256,\n",
    "        second_layer_neurons=128,\n",
    "        learning_rate=0.01,\n",
    "    ),\n",
    "    compute=gpu_compute_target,\n",
    "    environment=curated_env_name,\n",
    "    code=\"./\",\n",
    "    # Training script\n",
    "    # The script preprocesses the data, splits it and uses it to train the model and return an output model.\n",
    "    # The script creates a simple Deep Neural Network (DNN) with 2 hidden layers. The input layer has 28x28 = 784 neurons (each representing a pixel in and image) and the output layer has 10 neurons (each representing label 0 - 9)\n",
    "    command=\"python deep_learning_training_script.py --data-folder ${{inputs.data_folder}} --batch-size ${{inputs.batch_size}} --first-layer-neurons ${{inputs.first_layer_neurons}} --second-layer-neurons ${{inputs.second_layer_neurons}} --learning-rate ${{inputs.learning_rate}}\",\n",
    "    experiment_name=\"tf-dnn-image-classify\",\n",
    "    display_name=\"tensorflow-classify-mnist-digit-images-with-dnn\",\n",
    ")"
   ]
  },
  {
   "cell_type": "code",
   "execution_count": 12,
   "id": "a7de4062-13c1-410a-b826-e1c21d130669",
   "metadata": {},
   "outputs": [
    {
     "name": "stderr",
     "output_type": "stream",
     "text": [
      "Class AutoDeleteSettingSchema: This is an experimental class, and may change at any time. Please see https://aka.ms/azuremlexperimental for more information.\n",
      "Class AutoDeleteConditionSchema: This is an experimental class, and may change at any time. Please see https://aka.ms/azuremlexperimental for more information.\n",
      "Class BaseAutoDeleteSettingSchema: This is an experimental class, and may change at any time. Please see https://aka.ms/azuremlexperimental for more information.\n",
      "Class IntellectualPropertySchema: This is an experimental class, and may change at any time. Please see https://aka.ms/azuremlexperimental for more information.\n",
      "Class ProtectionLevelSchema: This is an experimental class, and may change at any time. Please see https://aka.ms/azuremlexperimental for more information.\n",
      "Class BaseIntellectualPropertySchema: This is an experimental class, and may change at any time. Please see https://aka.ms/azuremlexperimental for more information.\n",
      "\u001b[32mUploading MNIST handwriting (0.04 MBs): 100%|#################################| 43255/43255 [00:01<00:00, 36416.39it/s]\u001b[0m\n",
      "\u001b[39m\n",
      "\n"
     ]
    },
    {
     "data": {
      "text/html": [
       "<table style=\"width:100%\"><tr><th>Experiment</th><th>Name</th><th>Type</th><th>Status</th><th>Details Page</th></tr><tr><td>tf-dnn-image-classify</td><td>cyan_cherry_07qp56rt80</td><td>command</td><td>Starting</td><td><a href=\"https://ml.azure.com/runs/cyan_cherry_07qp56rt80?wsid=/subscriptions/7a985d8d-5197-4c86-88dd-92eaf6eb8332/resourcegroups/Deeptech_Ready_Program/workspaces/fatiu-us-ml-workspace&amp;tid=2ad150d4-244a-4970-b949-5bf5b8d4e194\" target=\"_blank\" rel=\"noopener\">Link to Azure Machine Learning studio</a></td></tr></table>"
      ],
      "text/plain": [
       "Command({'parameters': {}, 'init': False, 'name': 'cyan_cherry_07qp56rt80', 'type': 'command', 'status': 'Starting', 'log_files': None, 'description': None, 'tags': {}, 'properties': {'_azureml.ComputeTargetType': 'amlctrain', '_azureml.ClusterName': 'fatiu-compute-cluster', 'ContentSnapshotId': '359834a3-3a2c-4ad1-a7ef-16eb7ddad505'}, 'print_as_yaml': False, 'id': '/subscriptions/7a985d8d-5197-4c86-88dd-92eaf6eb8332/resourceGroups/Deeptech_Ready_Program/providers/Microsoft.MachineLearningServices/workspaces/fatiu-us-ml-workspace/jobs/cyan_cherry_07qp56rt80', 'Resource__source_path': '', 'base_path': 'C:\\\\Users\\\\USER\\\\Documents\\\\DeepTech Projects\\\\MNIST handwriting', 'creation_context': <azure.ai.ml.entities._system_data.SystemData object at 0x0000022C7C0DF0A0>, 'serialize': <msrest.serialization.Serializer object at 0x0000022C7C0DF1C0>, 'allowed_keys': {}, 'key_restriction': False, 'logger': <Logger attr_dict (WARNING)>, 'display_name': 'tensorflow-classify-mnist-digit-images-with-dnn', 'experiment_name': 'tf-dnn-image-classify', 'compute': 'fatiu-compute-cluster', 'services': {'Tracking': {'endpoint': 'azureml://eastus.api.azureml.ms/mlflow/v1.0/subscriptions/7a985d8d-5197-4c86-88dd-92eaf6eb8332/resourceGroups/Deeptech_Ready_Program/providers/Microsoft.MachineLearningServices/workspaces/fatiu-us-ml-workspace?', 'type': 'Tracking'}, 'Studio': {'endpoint': 'https://ml.azure.com/runs/cyan_cherry_07qp56rt80?wsid=/subscriptions/7a985d8d-5197-4c86-88dd-92eaf6eb8332/resourcegroups/Deeptech_Ready_Program/workspaces/fatiu-us-ml-workspace&tid=2ad150d4-244a-4970-b949-5bf5b8d4e194', 'type': 'Studio'}}, 'comment': None, 'job_inputs': {'data_folder': {'type': 'uri_folder', 'path': 'wasbs://mldatacontainer@fatiustorageaccountus.blob.core.windows.net/MNIST', 'mode': 'ro_mount'}, 'batch_size': '64', 'first_layer_neurons': '256', 'second_layer_neurons': '128', 'learning_rate': '0.01'}, 'job_outputs': {'default': {'type': 'uri_folder', 'path': 'azureml://datastores/workspaceartifactstore/ExperimentRun/dcid.cyan_cherry_07qp56rt80', 'mode': 'rw_mount'}}, 'inputs': {'data_folder': <azure.ai.ml.entities._job.pipeline._io.base.NodeInput object at 0x0000022C7C0DF280>, 'batch_size': <azure.ai.ml.entities._job.pipeline._io.base.NodeInput object at 0x0000022C7C0DF700>, 'first_layer_neurons': <azure.ai.ml.entities._job.pipeline._io.base.NodeInput object at 0x0000022C7C0DF970>, 'second_layer_neurons': <azure.ai.ml.entities._job.pipeline._io.base.NodeInput object at 0x0000022C7C092FA0>, 'learning_rate': <azure.ai.ml.entities._job.pipeline._io.base.NodeInput object at 0x0000022C7C029B20>}, 'outputs': {'default': <azure.ai.ml.entities._job.pipeline._io.base.NodeOutput object at 0x0000022C7C101FA0>}, 'component': CommandComponent({'latest_version': None, 'intellectual_property': None, 'auto_increment_version': True, 'source': 'REMOTE.WORKSPACE.JOB', 'is_anonymous': False, 'auto_delete_setting': None, 'name': 'cyan_cherry_07qp56rt80', 'description': None, 'tags': {}, 'properties': {}, 'print_as_yaml': False, 'id': None, 'Resource__source_path': None, 'base_path': 'C:\\\\Users\\\\USER\\\\Documents\\\\DeepTech Projects\\\\MNIST handwriting', 'creation_context': <azure.ai.ml.entities._system_data.SystemData object at 0x0000022C7C0DF0A0>, 'serialize': <msrest.serialization.Serializer object at 0x0000022C7C0DF5B0>, 'command': 'python deep_learning_training_script.py --data-folder ${{inputs.data_folder}} --batch-size ${{inputs.batch_size}} --first-layer-neurons ${{inputs.first_layer_neurons}} --second-layer-neurons ${{inputs.second_layer_neurons}} --learning-rate ${{inputs.learning_rate}}', 'code': '/subscriptions/7a985d8d-5197-4c86-88dd-92eaf6eb8332/resourceGroups/Deeptech_Ready_Program/providers/Microsoft.MachineLearningServices/workspaces/fatiu-us-ml-workspace/codes/3002ed18-a80a-49fa-9c69-d9de567b038a/versions/1', 'environment_variables': {}, 'environment': 'azureml:AzureML-tensorflow-2.12-cuda11@latest', 'distribution': None, 'resources': None, 'queue_settings': None, 'version': None, 'schema': None, 'type': 'command', 'display_name': 'tensorflow-classify-mnist-digit-images-with-dnn', 'is_deterministic': True, 'inputs': {'data_folder': {'type': 'uri_folder', 'path': 'wasbs://mldatacontainer@fatiustorageaccountus.blob.core.windows.net/MNIST', 'mode': 'ro_mount'}, 'batch_size': {'type': 'string', 'default': '64'}, 'first_layer_neurons': {'type': 'string', 'default': '256'}, 'second_layer_neurons': {'type': 'string', 'default': '128'}, 'learning_rate': {'type': 'string', 'default': '0.01'}}, 'outputs': {'default': {'type': 'uri_folder', 'path': 'azureml://datastores/workspaceartifactstore/ExperimentRun/dcid.cyan_cherry_07qp56rt80', 'mode': 'rw_mount'}}, 'yaml_str': None, 'other_parameter': {'status': 'Starting', 'parameters': {}}, 'additional_includes': []}), 'referenced_control_flow_node_instance_id': None, 'kwargs': {'services': {'Tracking': {'endpoint': 'azureml://eastus.api.azureml.ms/mlflow/v1.0/subscriptions/7a985d8d-5197-4c86-88dd-92eaf6eb8332/resourceGroups/Deeptech_Ready_Program/providers/Microsoft.MachineLearningServices/workspaces/fatiu-us-ml-workspace?', 'type': 'Tracking'}, 'Studio': {'endpoint': 'https://ml.azure.com/runs/cyan_cherry_07qp56rt80?wsid=/subscriptions/7a985d8d-5197-4c86-88dd-92eaf6eb8332/resourcegroups/Deeptech_Ready_Program/workspaces/fatiu-us-ml-workspace&tid=2ad150d4-244a-4970-b949-5bf5b8d4e194', 'type': 'Studio'}}, 'status': 'Starting', 'creation_context': <azure.ai.ml.entities._system_data.SystemData object at 0x0000022C7C0DF0A0>}, 'instance_id': 'b4127d30-49a1-4e2d-9f02-f9f22b34c2c0', 'source': 'BUILDER', 'validate_required_input_not_provided': True, 'limits': None, 'identity': None, 'distribution': None, 'environment_variables': {}, 'environment': 'azureml:AzureML-tensorflow-2.12-cuda11@latest', 'resources': {'instance_count': 1, 'shm_size': '2g'}, 'queue_settings': {'job_tier': 'null'}, 'parent_job_name': None, 'swept': False})"
      ]
     },
     "execution_count": 12,
     "metadata": {},
     "output_type": "execute_result"
    }
   ],
   "source": [
    "ml_client.jobs.create_or_update(job)"
   ]
  },
  {
   "cell_type": "code",
   "execution_count": 14,
   "id": "7fc8c7ea-2b37-46a8-b4e9-5c0554a93143",
   "metadata": {},
   "outputs": [],
   "source": [
    "# SWEEP/Hyperparameter Tuning\n",
    "from azure.ai.ml.sweep import Choice, LogUniform\n",
    "# Using the command job as a function\n",
    "job_for_sweep = job(\n",
    "    batch_size = Choice(values=[32, 64, 128]),\n",
    "    first_layer_neurons = Choice(values=[16, 64, 128, 256, 512]),\n",
    "    second_layer_neurons = Choice(values=[16, 64, 256, 512]),\n",
    "    learning_rate = LogUniform(min_value=-6, max_value=-1),\n",
    ")"
   ]
  },
  {
   "cell_type": "code",
   "execution_count": 16,
   "id": "b80e51d1-680d-4b39-80bb-e4084ab7ec38",
   "metadata": {},
   "outputs": [],
   "source": [
    "# Configure sweep\n",
    "from azure.ai.ml.sweep import BanditPolicy\n",
    "\n",
    "sweep_job = job_for_sweep.sweep(\n",
    "    compute=gpu_compute_target,\n",
    "    sampling_algorithm=\"random\",\n",
    "    primary_metric=\"validation_acc\",\n",
    "    goal=\"Maximize\",\n",
    "    max_total_trials=8,\n",
    "    max_concurrent_trials=4,\n",
    "    early_termination_policy=BanditPolicy(slack_factor=0.1, evaluation_interval=2),\n",
    ")"
   ]
  },
  {
   "cell_type": "code",
   "execution_count": 18,
   "id": "ec50c474-2447-436f-8848-fc75756ca119",
   "metadata": {},
   "outputs": [
    {
     "name": "stdout",
     "output_type": "stream",
     "text": [
      "RunId: helpful_plum_wny57srfs2\n",
      "Web View: https://ml.azure.com/runs/helpful_plum_wny57srfs2?wsid=/subscriptions/7a985d8d-5197-4c86-88dd-92eaf6eb8332/resourcegroups/Deeptech_Ready_Program/workspaces/fatiu-us-ml-workspace\n",
      "\n",
      "Streaming azureml-logs/hyperdrive.txt\n",
      "=====================================\n",
      "\n",
      "[2025-07-01T21:26:34.8699532Z][GENERATOR][DEBUG]Sampled 4 jobs from search space \n",
      "[2025-07-01T21:26:35.2456118Z][SCHEDULER][INFO]Scheduling job, id='helpful_plum_wny57srfs2_0' \n",
      "[2025-07-01T21:26:35.2998316Z][SCHEDULER][INFO]Scheduling job, id='helpful_plum_wny57srfs2_1' \n",
      "[2025-07-01T21:26:35.3016479Z][SCHEDULER][INFO]Scheduling job, id='helpful_plum_wny57srfs2_2' \n",
      "[2025-07-01T21:26:35.3980151Z][SCHEDULER][INFO]Scheduling job, id='helpful_plum_wny57srfs2_3' \n",
      "[2025-07-01T21:26:36.3039144Z][SCHEDULER][INFO]Successfully scheduled a job. Id='helpful_plum_wny57srfs2_3' \n",
      "[2025-07-01T21:26:36.3892543Z][SCHEDULER][INFO]Successfully scheduled a job. Id='helpful_plum_wny57srfs2_1' \n",
      "[2025-07-01T21:26:36.5923471Z][SCHEDULER][INFO]Successfully scheduled a job. Id='helpful_plum_wny57srfs2_2' \n",
      "[2025-07-01T21:26:36.6697130Z][SCHEDULER][INFO]Successfully scheduled a job. Id='helpful_plum_wny57srfs2_0' \n",
      "[2025-07-01T21:38:41.8615186Z][GENERATOR][DEBUG]Sampled 1 jobs from search space \n",
      "[2025-07-01T21:38:42.8916414Z][SCHEDULER][INFO]Scheduling job, id='helpful_plum_wny57srfs2_4' \n",
      "[2025-07-01T21:38:44.3067438Z][SCHEDULER][INFO]Successfully scheduled a job. Id='helpful_plum_wny57srfs2_4' \n",
      "[2025-07-01T21:45:17.5047856Z][GENERATOR][DEBUG]Sampled 1 jobs from search space \n",
      "[2025-07-01T21:45:18.5227061Z][SCHEDULER][INFO]Scheduling job, id='helpful_plum_wny57srfs2_5' \n",
      "[2025-07-01T21:45:19.1655758Z][SCHEDULER][INFO]Successfully scheduled a job. Id='helpful_plum_wny57srfs2_5' \n",
      "[2025-07-01T21:50:52.5048722Z][GENERATOR][DEBUG]Sampled 1 jobs from search space \n",
      "[2025-07-01T21:50:53.5642818Z][SCHEDULER][INFO]Scheduling job, id='helpful_plum_wny57srfs2_6' \n",
      "[2025-07-01T21:50:55.4120394Z][SCHEDULER][INFO]Successfully scheduled a job. Id='helpful_plum_wny57srfs2_6' \n",
      "[2025-07-01T21:53:25.6551876Z][GENERATOR][DEBUG]Sampled 1 jobs from search space \n",
      "[2025-07-01T21:53:25.9561240Z][SCHEDULER][INFO]Scheduling job, id='helpful_plum_wny57srfs2_7' \n",
      "[2025-07-01T21:53:26.3936342Z][SCHEDULER][INFO]Successfully scheduled a job. Id='helpful_plum_wny57srfs2_7' \n",
      "[2025-07-01T21:53:56.0914362Z][GENERATOR][DEBUG]Setting all jobs generated as True, reason : Max number of jobs reached \n",
      "[2025-07-01T22:00:14.2848205Z][ENFORCER][INFO]Requested cancellation of child job: helpful_plum_wny57srfs2_5 by Bandit enforcer policy \n",
      "[2025-07-01T22:13:42.6382897Z][CONTROLLER][INFO]Changing Run Status from Running to Completed \n",
      "\n",
      "Execution Summary\n",
      "=================\n",
      "RunId: helpful_plum_wny57srfs2\n",
      "Web View: https://ml.azure.com/runs/helpful_plum_wny57srfs2?wsid=/subscriptions/7a985d8d-5197-4c86-88dd-92eaf6eb8332/resourcegroups/Deeptech_Ready_Program/workspaces/fatiu-us-ml-workspace\n",
      "\n"
     ]
    }
   ],
   "source": [
    "# Submit sweep job\n",
    "returned_sweep_job = ml_client.create_or_update(sweep_job)\n",
    "# Stream the output and wait until the job is finished\n",
    "ml_client.jobs.stream(returned_sweep_job.name)\n",
    "# Refresh the latest status of the job after streaming\n",
    "returned_sweep_job = ml_client.jobs.get(name=returned_sweep_job.name)"
   ]
  },
  {
   "cell_type": "code",
   "execution_count": 20,
   "id": "9b9543af-9a31-4601-9d94-781dcdf9b346",
   "metadata": {},
   "outputs": [],
   "source": [
    "# Find and register best model\n",
    "from azure.ai.ml.entities import Model\n",
    "\n",
    "if returned_sweep_job.status == \"Completed\":\n",
    "\n",
    "    # Model with best result\n",
    "    best_run = returned_sweep_job.properties[\"best_child_run_id\"]\n",
    "\n",
    "    # lets get the model from this run\n",
    "    model = Model(\n",
    "        # the script stores the model as \"model\"\n",
    "        path=\"azureml://jobs/{}/outputs/artifacts/paths/outputs/model/\".format(\n",
    "            best_run\n",
    "        ),\n",
    "        name=\"run-model-example\",\n",
    "        description=\"Model created from run.\",\n",
    "        type=\"custom_model\",\n",
    "    )\n",
    "\n",
    "else:\n",
    "    print(\n",
    "        \"Sweep job status: {}. Please wait until it completes\".format(\n",
    "            returned_sweep_job.status\n",
    "        )\n",
    "    )"
   ]
  },
  {
   "cell_type": "code",
   "execution_count": 22,
   "id": "55290490-efc6-4c04-867b-8d5295cfc4a5",
   "metadata": {},
   "outputs": [],
   "source": [
    "# Register model\n",
    "registered_model = ml_client.models.create_or_update(model = model)"
   ]
  }
 ],
 "metadata": {
  "kernelspec": {
   "display_name": "Python (ML_GPU)",
   "language": "python",
   "name": "ml_gpu"
  },
  "language_info": {
   "codemirror_mode": {
    "name": "ipython",
    "version": 3
   },
   "file_extension": ".py",
   "mimetype": "text/x-python",
   "name": "python",
   "nbconvert_exporter": "python",
   "pygments_lexer": "ipython3",
   "version": "3.9.23"
  }
 },
 "nbformat": 4,
 "nbformat_minor": 5
}
